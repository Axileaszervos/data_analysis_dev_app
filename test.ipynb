{
 "cells": [
  {
   "cell_type": "code",
   "execution_count": 24,
   "metadata": {},
   "outputs": [
    {
     "data": {
      "text/plain": [
       "0      M\n",
       "1      M\n",
       "2      M\n",
       "3      M\n",
       "4      M\n",
       "      ..\n",
       "235    O\n",
       "236    O\n",
       "237    A\n",
       "238    A\n",
       "239    O\n",
       "Name: Spectral Class, Length: 240, dtype: object"
      ]
     },
     "execution_count": 24,
     "metadata": {},
     "output_type": "execute_result"
    }
   ],
   "source": [
    "import pandas as pd\n",
    "\n",
    "data = pd.read_csv('cleaned_star_data.csv',sep=',')\n",
    "\n",
    "# column_names_list = data.columns.tolist()\n",
    "# last_column_name =  column_names_list[len(column_names_list)-1]\n",
    "\n",
    "\n",
    "# labels = data.pop(last_column_name)\n",
    "# features = data\n",
    "# print(features)\n",
    "\n",
    "# Extract the labels by popping the last column\n",
    "labels = data.iloc[:, -1]\n",
    "\n",
    "# Extract features by dropping the last column\n",
    "features = data.iloc[:, :-1]\n",
    "\n",
    "labels\n"
   ]
  }
 ],
 "metadata": {
  "kernelspec": {
   "display_name": "venv",
   "language": "python",
   "name": "python3"
  },
  "language_info": {
   "codemirror_mode": {
    "name": "ipython",
    "version": 3
   },
   "file_extension": ".py",
   "mimetype": "text/x-python",
   "name": "python",
   "nbconvert_exporter": "python",
   "pygments_lexer": "ipython3",
   "version": "3.10.6"
  }
 },
 "nbformat": 4,
 "nbformat_minor": 2
}
